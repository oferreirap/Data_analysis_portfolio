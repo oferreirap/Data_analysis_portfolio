{
 "cells": [
  {
   "cell_type": "code",
   "execution_count": 1,
   "metadata": {},
   "outputs": [],
   "source": [
    "import os\n",
    "import pandas as pd"
   ]
  },
  {
   "cell_type": "code",
   "execution_count": 2,
   "metadata": {},
   "outputs": [],
   "source": [
    "#Define a function to parse monthly data from multiple csv files to a single one\n",
    "def create_master_csv(data_folder, output_filename):\n",
    "    df = []\n",
    "\n",
    "    for file in os.listdir(data_folder):\n",
    "        if file.endswith('.csv'):\n",
    "            df.append(pd.read_csv(os.path.join(data_folder, file), encoding='latin-1'))\n",
    "\n",
    "    df_master = pd.concat(df)\n",
    "    df_master.to_csv(output_filename, index=False)"
   ]
  },
  {
   "cell_type": "code",
   "execution_count": 3,
   "metadata": {},
   "outputs": [],
   "source": [
    "# Files and folders data paths\n",
    "notebook_folder = os.path.dirname(os.path.abspath('__file__'))  # Get the folder of the notebook\n",
    "\n",
    "data_21_folder = os.path.join(notebook_folder, '..', 'raw', '2021')\n",
    "data_22_folder = os.path.join(notebook_folder, '..', 'raw', '2022')\n",
    "data_23_folder = os.path.join(notebook_folder, '..', 'raw', '2023')"
   ]
  },
  {
   "cell_type": "code",
   "execution_count": 4,
   "metadata": {},
   "outputs": [],
   "source": [
    "#Execute the created function to create the master csv to each year\n",
    "create_master_csv(data_21_folder, 'master_21.csv')\n",
    "create_master_csv(data_22_folder, 'master_22.csv')\n",
    "create_master_csv(data_23_folder, 'master_23.csv')"
   ]
  }
 ],
 "metadata": {
  "kernelspec": {
   "display_name": "base",
   "language": "python",
   "name": "python3"
  },
  "language_info": {
   "codemirror_mode": {
    "name": "ipython",
    "version": 3
   },
   "file_extension": ".py",
   "mimetype": "text/x-python",
   "name": "python",
   "nbconvert_exporter": "python",
   "pygments_lexer": "ipython3",
   "version": "3.10.9"
  },
  "orig_nbformat": 4
 },
 "nbformat": 4,
 "nbformat_minor": 2
}
